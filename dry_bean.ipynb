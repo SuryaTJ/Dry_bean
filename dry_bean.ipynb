{
  "nbformat": 4,
  "nbformat_minor": 0,
  "metadata": {
    "colab": {
      "provenance": [],
      "authorship_tag": "ABX9TyO0iqmzLlnNhaaSp+82X6fF",
      "include_colab_link": true
    },
    "kernelspec": {
      "name": "python3",
      "display_name": "Python 3"
    },
    "language_info": {
      "name": "python"
    }
  },
  "cells": [
    {
      "cell_type": "markdown",
      "metadata": {
        "id": "view-in-github",
        "colab_type": "text"
      },
      "source": [
        "<a href=\"https://colab.research.google.com/github/SuryaTJ/Dry_bean/blob/main/dry_bean.ipynb\" target=\"_parent\"><img src=\"https://colab.research.google.com/assets/colab-badge.svg\" alt=\"Open In Colab\"/></a>"
      ]
    },
    {
      "cell_type": "markdown",
      "source": [
        "Import neccessary Libraries"
      ],
      "metadata": {
        "id": "1J0yx8_VV2m9"
      }
    },
    {
      "cell_type": "code",
      "execution_count": 11,
      "metadata": {
        "id": "3V74DJDYAFUf"
      },
      "outputs": [],
      "source": [
        "import pandas as pd\n",
        "import numpy as np\n",
        "from sklearn.model_selection import train_test_split\n",
        "from sklearn.preprocessing import StandardScaler, LabelBinarizer\n",
        "from sklearn.metrics import accuracy_score"
      ]
    },
    {
      "cell_type": "code",
      "source": [],
      "metadata": {
        "id": "DG1v0AwEWMph"
      },
      "execution_count": 11,
      "outputs": []
    },
    {
      "cell_type": "markdown",
      "source": [
        "Read and covert data into Data Frame"
      ],
      "metadata": {
        "id": "uIYr9k11WQNM"
      }
    },
    {
      "cell_type": "code",
      "source": [
        "data = pd.read_excel('/content/Dry_Bean_Dataset.xlsx')"
      ],
      "metadata": {
        "id": "tcJqji7ABXny"
      },
      "execution_count": 12,
      "outputs": []
    },
    {
      "cell_type": "code",
      "source": [
        "data.shape\n"
      ],
      "metadata": {
        "colab": {
          "base_uri": "https://localhost:8080/"
        },
        "id": "9C5L6w2dCh4I",
        "outputId": "2a603422-051f-43bb-8210-0f66aeb049f7"
      },
      "execution_count": 13,
      "outputs": [
        {
          "output_type": "execute_result",
          "data": {
            "text/plain": [
              "(13611, 17)"
            ]
          },
          "metadata": {},
          "execution_count": 13
        }
      ]
    },
    {
      "cell_type": "code",
      "source": [
        "data.head()"
      ],
      "metadata": {
        "id": "356wk5InCUFk",
        "colab": {
          "base_uri": "https://localhost:8080/",
          "height": 226
        },
        "outputId": "81fb8f09-d5b6-42fa-a481-026caf292819"
      },
      "execution_count": 14,
      "outputs": [
        {
          "output_type": "execute_result",
          "data": {
            "text/plain": [
              "    Area  Perimeter  MajorAxisLength  MinorAxisLength  AspectRation  \\\n",
              "0  28395    610.291       208.178117       173.888747      1.197191   \n",
              "1  28734    638.018       200.524796       182.734419      1.097356   \n",
              "2  29380    624.110       212.826130       175.931143      1.209713   \n",
              "3  30008    645.884       210.557999       182.516516      1.153638   \n",
              "4  30140    620.134       201.847882       190.279279      1.060798   \n",
              "\n",
              "   Eccentricity  ConvexArea  EquivDiameter    Extent  Solidity  roundness  \\\n",
              "0      0.549812       28715     190.141097  0.763923  0.988856   0.958027   \n",
              "1      0.411785       29172     191.272750  0.783968  0.984986   0.887034   \n",
              "2      0.562727       29690     193.410904  0.778113  0.989559   0.947849   \n",
              "3      0.498616       30724     195.467062  0.782681  0.976696   0.903936   \n",
              "4      0.333680       30417     195.896503  0.773098  0.990893   0.984877   \n",
              "\n",
              "   Compactness  ShapeFactor1  ShapeFactor2  ShapeFactor3  ShapeFactor4  Class  \n",
              "0     0.913358      0.007332      0.003147      0.834222      0.998724  SEKER  \n",
              "1     0.953861      0.006979      0.003564      0.909851      0.998430  SEKER  \n",
              "2     0.908774      0.007244      0.003048      0.825871      0.999066  SEKER  \n",
              "3     0.928329      0.007017      0.003215      0.861794      0.994199  SEKER  \n",
              "4     0.970516      0.006697      0.003665      0.941900      0.999166  SEKER  "
            ],
            "text/html": [
              "\n",
              "  <div id=\"df-ea6cbee1-25f6-4acc-85bb-0047b6ada2f4\" class=\"colab-df-container\">\n",
              "    <div>\n",
              "<style scoped>\n",
              "    .dataframe tbody tr th:only-of-type {\n",
              "        vertical-align: middle;\n",
              "    }\n",
              "\n",
              "    .dataframe tbody tr th {\n",
              "        vertical-align: top;\n",
              "    }\n",
              "\n",
              "    .dataframe thead th {\n",
              "        text-align: right;\n",
              "    }\n",
              "</style>\n",
              "<table border=\"1\" class=\"dataframe\">\n",
              "  <thead>\n",
              "    <tr style=\"text-align: right;\">\n",
              "      <th></th>\n",
              "      <th>Area</th>\n",
              "      <th>Perimeter</th>\n",
              "      <th>MajorAxisLength</th>\n",
              "      <th>MinorAxisLength</th>\n",
              "      <th>AspectRation</th>\n",
              "      <th>Eccentricity</th>\n",
              "      <th>ConvexArea</th>\n",
              "      <th>EquivDiameter</th>\n",
              "      <th>Extent</th>\n",
              "      <th>Solidity</th>\n",
              "      <th>roundness</th>\n",
              "      <th>Compactness</th>\n",
              "      <th>ShapeFactor1</th>\n",
              "      <th>ShapeFactor2</th>\n",
              "      <th>ShapeFactor3</th>\n",
              "      <th>ShapeFactor4</th>\n",
              "      <th>Class</th>\n",
              "    </tr>\n",
              "  </thead>\n",
              "  <tbody>\n",
              "    <tr>\n",
              "      <th>0</th>\n",
              "      <td>28395</td>\n",
              "      <td>610.291</td>\n",
              "      <td>208.178117</td>\n",
              "      <td>173.888747</td>\n",
              "      <td>1.197191</td>\n",
              "      <td>0.549812</td>\n",
              "      <td>28715</td>\n",
              "      <td>190.141097</td>\n",
              "      <td>0.763923</td>\n",
              "      <td>0.988856</td>\n",
              "      <td>0.958027</td>\n",
              "      <td>0.913358</td>\n",
              "      <td>0.007332</td>\n",
              "      <td>0.003147</td>\n",
              "      <td>0.834222</td>\n",
              "      <td>0.998724</td>\n",
              "      <td>SEKER</td>\n",
              "    </tr>\n",
              "    <tr>\n",
              "      <th>1</th>\n",
              "      <td>28734</td>\n",
              "      <td>638.018</td>\n",
              "      <td>200.524796</td>\n",
              "      <td>182.734419</td>\n",
              "      <td>1.097356</td>\n",
              "      <td>0.411785</td>\n",
              "      <td>29172</td>\n",
              "      <td>191.272750</td>\n",
              "      <td>0.783968</td>\n",
              "      <td>0.984986</td>\n",
              "      <td>0.887034</td>\n",
              "      <td>0.953861</td>\n",
              "      <td>0.006979</td>\n",
              "      <td>0.003564</td>\n",
              "      <td>0.909851</td>\n",
              "      <td>0.998430</td>\n",
              "      <td>SEKER</td>\n",
              "    </tr>\n",
              "    <tr>\n",
              "      <th>2</th>\n",
              "      <td>29380</td>\n",
              "      <td>624.110</td>\n",
              "      <td>212.826130</td>\n",
              "      <td>175.931143</td>\n",
              "      <td>1.209713</td>\n",
              "      <td>0.562727</td>\n",
              "      <td>29690</td>\n",
              "      <td>193.410904</td>\n",
              "      <td>0.778113</td>\n",
              "      <td>0.989559</td>\n",
              "      <td>0.947849</td>\n",
              "      <td>0.908774</td>\n",
              "      <td>0.007244</td>\n",
              "      <td>0.003048</td>\n",
              "      <td>0.825871</td>\n",
              "      <td>0.999066</td>\n",
              "      <td>SEKER</td>\n",
              "    </tr>\n",
              "    <tr>\n",
              "      <th>3</th>\n",
              "      <td>30008</td>\n",
              "      <td>645.884</td>\n",
              "      <td>210.557999</td>\n",
              "      <td>182.516516</td>\n",
              "      <td>1.153638</td>\n",
              "      <td>0.498616</td>\n",
              "      <td>30724</td>\n",
              "      <td>195.467062</td>\n",
              "      <td>0.782681</td>\n",
              "      <td>0.976696</td>\n",
              "      <td>0.903936</td>\n",
              "      <td>0.928329</td>\n",
              "      <td>0.007017</td>\n",
              "      <td>0.003215</td>\n",
              "      <td>0.861794</td>\n",
              "      <td>0.994199</td>\n",
              "      <td>SEKER</td>\n",
              "    </tr>\n",
              "    <tr>\n",
              "      <th>4</th>\n",
              "      <td>30140</td>\n",
              "      <td>620.134</td>\n",
              "      <td>201.847882</td>\n",
              "      <td>190.279279</td>\n",
              "      <td>1.060798</td>\n",
              "      <td>0.333680</td>\n",
              "      <td>30417</td>\n",
              "      <td>195.896503</td>\n",
              "      <td>0.773098</td>\n",
              "      <td>0.990893</td>\n",
              "      <td>0.984877</td>\n",
              "      <td>0.970516</td>\n",
              "      <td>0.006697</td>\n",
              "      <td>0.003665</td>\n",
              "      <td>0.941900</td>\n",
              "      <td>0.999166</td>\n",
              "      <td>SEKER</td>\n",
              "    </tr>\n",
              "  </tbody>\n",
              "</table>\n",
              "</div>\n",
              "    <div class=\"colab-df-buttons\">\n",
              "\n",
              "  <div class=\"colab-df-container\">\n",
              "    <button class=\"colab-df-convert\" onclick=\"convertToInteractive('df-ea6cbee1-25f6-4acc-85bb-0047b6ada2f4')\"\n",
              "            title=\"Convert this dataframe to an interactive table.\"\n",
              "            style=\"display:none;\">\n",
              "\n",
              "  <svg xmlns=\"http://www.w3.org/2000/svg\" height=\"24px\" viewBox=\"0 -960 960 960\">\n",
              "    <path d=\"M120-120v-720h720v720H120Zm60-500h600v-160H180v160Zm220 220h160v-160H400v160Zm0 220h160v-160H400v160ZM180-400h160v-160H180v160Zm440 0h160v-160H620v160ZM180-180h160v-160H180v160Zm440 0h160v-160H620v160Z\"/>\n",
              "  </svg>\n",
              "    </button>\n",
              "\n",
              "  <style>\n",
              "    .colab-df-container {\n",
              "      display:flex;\n",
              "      gap: 12px;\n",
              "    }\n",
              "\n",
              "    .colab-df-convert {\n",
              "      background-color: #E8F0FE;\n",
              "      border: none;\n",
              "      border-radius: 50%;\n",
              "      cursor: pointer;\n",
              "      display: none;\n",
              "      fill: #1967D2;\n",
              "      height: 32px;\n",
              "      padding: 0 0 0 0;\n",
              "      width: 32px;\n",
              "    }\n",
              "\n",
              "    .colab-df-convert:hover {\n",
              "      background-color: #E2EBFA;\n",
              "      box-shadow: 0px 1px 2px rgba(60, 64, 67, 0.3), 0px 1px 3px 1px rgba(60, 64, 67, 0.15);\n",
              "      fill: #174EA6;\n",
              "    }\n",
              "\n",
              "    .colab-df-buttons div {\n",
              "      margin-bottom: 4px;\n",
              "    }\n",
              "\n",
              "    [theme=dark] .colab-df-convert {\n",
              "      background-color: #3B4455;\n",
              "      fill: #D2E3FC;\n",
              "    }\n",
              "\n",
              "    [theme=dark] .colab-df-convert:hover {\n",
              "      background-color: #434B5C;\n",
              "      box-shadow: 0px 1px 3px 1px rgba(0, 0, 0, 0.15);\n",
              "      filter: drop-shadow(0px 1px 2px rgba(0, 0, 0, 0.3));\n",
              "      fill: #FFFFFF;\n",
              "    }\n",
              "  </style>\n",
              "\n",
              "    <script>\n",
              "      const buttonEl =\n",
              "        document.querySelector('#df-ea6cbee1-25f6-4acc-85bb-0047b6ada2f4 button.colab-df-convert');\n",
              "      buttonEl.style.display =\n",
              "        google.colab.kernel.accessAllowed ? 'block' : 'none';\n",
              "\n",
              "      async function convertToInteractive(key) {\n",
              "        const element = document.querySelector('#df-ea6cbee1-25f6-4acc-85bb-0047b6ada2f4');\n",
              "        const dataTable =\n",
              "          await google.colab.kernel.invokeFunction('convertToInteractive',\n",
              "                                                    [key], {});\n",
              "        if (!dataTable) return;\n",
              "\n",
              "        const docLinkHtml = 'Like what you see? Visit the ' +\n",
              "          '<a target=\"_blank\" href=https://colab.research.google.com/notebooks/data_table.ipynb>data table notebook</a>'\n",
              "          + ' to learn more about interactive tables.';\n",
              "        element.innerHTML = '';\n",
              "        dataTable['output_type'] = 'display_data';\n",
              "        await google.colab.output.renderOutput(dataTable, element);\n",
              "        const docLink = document.createElement('div');\n",
              "        docLink.innerHTML = docLinkHtml;\n",
              "        element.appendChild(docLink);\n",
              "      }\n",
              "    </script>\n",
              "  </div>\n",
              "\n",
              "\n",
              "<div id=\"df-e91a0e46-1aa9-4484-a723-1cdba4115de7\">\n",
              "  <button class=\"colab-df-quickchart\" onclick=\"quickchart('df-e91a0e46-1aa9-4484-a723-1cdba4115de7')\"\n",
              "            title=\"Suggest charts\"\n",
              "            style=\"display:none;\">\n",
              "\n",
              "<svg xmlns=\"http://www.w3.org/2000/svg\" height=\"24px\"viewBox=\"0 0 24 24\"\n",
              "     width=\"24px\">\n",
              "    <g>\n",
              "        <path d=\"M19 3H5c-1.1 0-2 .9-2 2v14c0 1.1.9 2 2 2h14c1.1 0 2-.9 2-2V5c0-1.1-.9-2-2-2zM9 17H7v-7h2v7zm4 0h-2V7h2v10zm4 0h-2v-4h2v4z\"/>\n",
              "    </g>\n",
              "</svg>\n",
              "  </button>\n",
              "\n",
              "<style>\n",
              "  .colab-df-quickchart {\n",
              "      --bg-color: #E8F0FE;\n",
              "      --fill-color: #1967D2;\n",
              "      --hover-bg-color: #E2EBFA;\n",
              "      --hover-fill-color: #174EA6;\n",
              "      --disabled-fill-color: #AAA;\n",
              "      --disabled-bg-color: #DDD;\n",
              "  }\n",
              "\n",
              "  [theme=dark] .colab-df-quickchart {\n",
              "      --bg-color: #3B4455;\n",
              "      --fill-color: #D2E3FC;\n",
              "      --hover-bg-color: #434B5C;\n",
              "      --hover-fill-color: #FFFFFF;\n",
              "      --disabled-bg-color: #3B4455;\n",
              "      --disabled-fill-color: #666;\n",
              "  }\n",
              "\n",
              "  .colab-df-quickchart {\n",
              "    background-color: var(--bg-color);\n",
              "    border: none;\n",
              "    border-radius: 50%;\n",
              "    cursor: pointer;\n",
              "    display: none;\n",
              "    fill: var(--fill-color);\n",
              "    height: 32px;\n",
              "    padding: 0;\n",
              "    width: 32px;\n",
              "  }\n",
              "\n",
              "  .colab-df-quickchart:hover {\n",
              "    background-color: var(--hover-bg-color);\n",
              "    box-shadow: 0 1px 2px rgba(60, 64, 67, 0.3), 0 1px 3px 1px rgba(60, 64, 67, 0.15);\n",
              "    fill: var(--button-hover-fill-color);\n",
              "  }\n",
              "\n",
              "  .colab-df-quickchart-complete:disabled,\n",
              "  .colab-df-quickchart-complete:disabled:hover {\n",
              "    background-color: var(--disabled-bg-color);\n",
              "    fill: var(--disabled-fill-color);\n",
              "    box-shadow: none;\n",
              "  }\n",
              "\n",
              "  .colab-df-spinner {\n",
              "    border: 2px solid var(--fill-color);\n",
              "    border-color: transparent;\n",
              "    border-bottom-color: var(--fill-color);\n",
              "    animation:\n",
              "      spin 1s steps(1) infinite;\n",
              "  }\n",
              "\n",
              "  @keyframes spin {\n",
              "    0% {\n",
              "      border-color: transparent;\n",
              "      border-bottom-color: var(--fill-color);\n",
              "      border-left-color: var(--fill-color);\n",
              "    }\n",
              "    20% {\n",
              "      border-color: transparent;\n",
              "      border-left-color: var(--fill-color);\n",
              "      border-top-color: var(--fill-color);\n",
              "    }\n",
              "    30% {\n",
              "      border-color: transparent;\n",
              "      border-left-color: var(--fill-color);\n",
              "      border-top-color: var(--fill-color);\n",
              "      border-right-color: var(--fill-color);\n",
              "    }\n",
              "    40% {\n",
              "      border-color: transparent;\n",
              "      border-right-color: var(--fill-color);\n",
              "      border-top-color: var(--fill-color);\n",
              "    }\n",
              "    60% {\n",
              "      border-color: transparent;\n",
              "      border-right-color: var(--fill-color);\n",
              "    }\n",
              "    80% {\n",
              "      border-color: transparent;\n",
              "      border-right-color: var(--fill-color);\n",
              "      border-bottom-color: var(--fill-color);\n",
              "    }\n",
              "    90% {\n",
              "      border-color: transparent;\n",
              "      border-bottom-color: var(--fill-color);\n",
              "    }\n",
              "  }\n",
              "</style>\n",
              "\n",
              "  <script>\n",
              "    async function quickchart(key) {\n",
              "      const quickchartButtonEl =\n",
              "        document.querySelector('#' + key + ' button');\n",
              "      quickchartButtonEl.disabled = true;  // To prevent multiple clicks.\n",
              "      quickchartButtonEl.classList.add('colab-df-spinner');\n",
              "      try {\n",
              "        const charts = await google.colab.kernel.invokeFunction(\n",
              "            'suggestCharts', [key], {});\n",
              "      } catch (error) {\n",
              "        console.error('Error during call to suggestCharts:', error);\n",
              "      }\n",
              "      quickchartButtonEl.classList.remove('colab-df-spinner');\n",
              "      quickchartButtonEl.classList.add('colab-df-quickchart-complete');\n",
              "    }\n",
              "    (() => {\n",
              "      let quickchartButtonEl =\n",
              "        document.querySelector('#df-e91a0e46-1aa9-4484-a723-1cdba4115de7 button');\n",
              "      quickchartButtonEl.style.display =\n",
              "        google.colab.kernel.accessAllowed ? 'block' : 'none';\n",
              "    })();\n",
              "  </script>\n",
              "</div>\n",
              "\n",
              "    </div>\n",
              "  </div>\n"
            ],
            "application/vnd.google.colaboratory.intrinsic+json": {
              "type": "dataframe",
              "variable_name": "data",
              "summary": "{\n  \"name\": \"data\",\n  \"rows\": 13611,\n  \"fields\": [\n    {\n      \"column\": \"Area\",\n      \"properties\": {\n        \"dtype\": \"number\",\n        \"std\": 29324,\n        \"min\": 20420,\n        \"max\": 254616,\n        \"num_unique_values\": 12011,\n        \"samples\": [\n          48012,\n          45550,\n          180089\n        ],\n        \"semantic_type\": \"\",\n        \"description\": \"\"\n      }\n    },\n    {\n      \"column\": \"Perimeter\",\n      \"properties\": {\n        \"dtype\": \"number\",\n        \"std\": 214.28969589196143,\n        \"min\": 524.736,\n        \"max\": 1985.37,\n        \"num_unique_values\": 13416,\n        \"samples\": [\n          699.286,\n          612.78,\n          796.887\n        ],\n        \"semantic_type\": \"\",\n        \"description\": \"\"\n      }\n    },\n    {\n      \"column\": \"MajorAxisLength\",\n      \"properties\": {\n        \"dtype\": \"number\",\n        \"std\": 85.69418595953206,\n        \"min\": 183.6011650038393,\n        \"max\": 738.8601534818813,\n        \"num_unique_values\": 13543,\n        \"samples\": [\n          255.3327746673524,\n          344.0611383445675,\n          257.1596389717501\n        ],\n        \"semantic_type\": \"\",\n        \"description\": \"\"\n      }\n    },\n    {\n      \"column\": \"MinorAxisLength\",\n      \"properties\": {\n        \"dtype\": \"number\",\n        \"std\": 44.9700912945554,\n        \"min\": 122.51265345074418,\n        \"max\": 460.1984968278401,\n        \"num_unique_values\": 13543,\n        \"samples\": [\n          190.54541437313145,\n          229.2631251301869,\n          172.83898706312104\n        ],\n        \"semantic_type\": \"\",\n        \"description\": \"\"\n      }\n    },\n    {\n      \"column\": \"AspectRation\",\n      \"properties\": {\n        \"dtype\": \"number\",\n        \"std\": 0.24667845568492627,\n        \"min\": 1.0248675960667681,\n        \"max\": 2.430306446836626,\n        \"num_unique_values\": 13543,\n        \"samples\": [\n          1.340010073227753,\n          1.5007260245152492,\n          1.4878566655672139\n        ],\n        \"semantic_type\": \"\",\n        \"description\": \"\"\n      }\n    },\n    {\n      \"column\": \"Eccentricity\",\n      \"properties\": {\n        \"dtype\": \"number\",\n        \"std\": 0.09200176320337733,\n        \"min\": 0.21895126335356507,\n        \"max\": 0.9114229684680053,\n        \"num_unique_values\": 13543,\n        \"samples\": [\n          0.6656511586178118,\n          0.7456443389072084,\n          0.7404533534333329\n        ],\n        \"semantic_type\": \"\",\n        \"description\": \"\"\n      }\n    },\n    {\n      \"column\": \"ConvexArea\",\n      \"properties\": {\n        \"dtype\": \"number\",\n        \"std\": 29774,\n        \"min\": 20684,\n        \"max\": 263261,\n        \"num_unique_values\": 12066,\n        \"samples\": [\n          43064,\n          28214,\n          80312\n        ],\n        \"semantic_type\": \"\",\n        \"description\": \"\"\n      }\n    },\n    {\n      \"column\": \"EquivDiameter\",\n      \"properties\": {\n        \"dtype\": \"number\",\n        \"std\": 59.17712014913515,\n        \"min\": 161.24376423134018,\n        \"max\": 569.3743583287609,\n        \"num_unique_values\": 12011,\n        \"samples\": [\n          247.24638929987356,\n          240.8237140787565,\n          478.8490747321234\n        ],\n        \"semantic_type\": \"\",\n        \"description\": \"\"\n      }\n    },\n    {\n      \"column\": \"Extent\",\n      \"properties\": {\n        \"dtype\": \"number\",\n        \"std\": 0.04908636684603899,\n        \"min\": 0.55531471681117,\n        \"max\": 0.8661946405648266,\n        \"num_unique_values\": 13535,\n        \"samples\": [\n          0.7530126289405187,\n          0.8139035250909178,\n          0.7104758449098072\n        ],\n        \"semantic_type\": \"\",\n        \"description\": \"\"\n      }\n    },\n    {\n      \"column\": \"Solidity\",\n      \"properties\": {\n        \"dtype\": \"number\",\n        \"std\": 0.004660379163490263,\n        \"min\": 0.9192461570857022,\n        \"max\": 0.9946774999456888,\n        \"num_unique_values\": 13526,\n        \"samples\": [\n          0.9774241582958962,\n          0.987095531587057,\n          0.9895255844676685\n        ],\n        \"semantic_type\": \"\",\n        \"description\": \"\"\n      }\n    },\n    {\n      \"column\": \"roundness\",\n      \"properties\": {\n        \"dtype\": \"number\",\n        \"std\": 0.05951988794823966,\n        \"min\": 0.4896182562412148,\n        \"max\": 0.9906853996160323,\n        \"num_unique_values\": 13543,\n        \"samples\": [\n          0.9454820303039476,\n          0.8617958533455987,\n          0.8958597769683712\n        ],\n        \"semantic_type\": \"\",\n        \"description\": \"\"\n      }\n    },\n    {\n      \"column\": \"Compactness\",\n      \"properties\": {\n        \"dtype\": \"number\",\n        \"std\": 0.06171346312041559,\n        \"min\": 0.6405767589768725,\n        \"max\": 0.9873029693778109,\n        \"num_unique_values\": 13543,\n        \"samples\": [\n          0.8634177095356073,\n          0.8100850684192233,\n          0.8192607945820544\n        ],\n        \"semantic_type\": \"\",\n        \"description\": \"\"\n      }\n    },\n    {\n      \"column\": \"ShapeFactor1\",\n      \"properties\": {\n        \"dtype\": \"number\",\n        \"std\": 0.0011279982276084996,\n        \"min\": 0.0027780126683855494,\n        \"max\": 0.010451169324378654,\n        \"num_unique_values\": 13543,\n        \"samples\": [\n          0.0066890069859413285,\n          0.005639144745293093,\n          0.007376714350470443\n        ],\n        \"semantic_type\": \"\",\n        \"description\": \"\"\n      }\n    },\n    {\n      \"column\": \"ShapeFactor2\",\n      \"properties\": {\n        \"dtype\": \"number\",\n        \"std\": 0.0005958748567323859,\n        \"min\": 0.0005641690180332927,\n        \"max\": 0.0036649719644516834,\n        \"num_unique_values\": 13543,\n        \"samples\": [\n          0.0022931117575674892,\n          0.0014980127646746849,\n          0.0020498940680965883\n        ],\n        \"semantic_type\": \"\",\n        \"description\": \"\"\n      }\n    },\n    {\n      \"column\": \"ShapeFactor3\",\n      \"properties\": {\n        \"dtype\": \"number\",\n        \"std\": 0.09899615048070137,\n        \"min\": 0.41033858414131424,\n        \"max\": 0.9747671533422431,\n        \"num_unique_values\": 13543,\n        \"samples\": [\n          0.7454901411397143,\n          0.6562378180757779,\n          0.671188249539219\n        ],\n        \"semantic_type\": \"\",\n        \"description\": \"\"\n      }\n    },\n    {\n      \"column\": \"ShapeFactor4\",\n      \"properties\": {\n        \"dtype\": \"number\",\n        \"std\": 0.0043664577487279995,\n        \"min\": 0.9476874027098624,\n        \"max\": 0.9997325300471389,\n        \"num_unique_values\": 13543,\n        \"samples\": [\n          0.9989642986191964,\n          0.9848331718574236,\n          0.9986319109273175\n        ],\n        \"semantic_type\": \"\",\n        \"description\": \"\"\n      }\n    },\n    {\n      \"column\": \"Class\",\n      \"properties\": {\n        \"dtype\": \"category\",\n        \"num_unique_values\": 7,\n        \"samples\": [\n          \"SEKER\",\n          \"BARBUNYA\",\n          \"SIRA\"\n        ],\n        \"semantic_type\": \"\",\n        \"description\": \"\"\n      }\n    }\n  ]\n}"
            }
          },
          "metadata": {},
          "execution_count": 14
        }
      ]
    },
    {
      "cell_type": "markdown",
      "source": [
        "To see the null Values"
      ],
      "metadata": {
        "id": "7FoG8WJlW7fY"
      }
    },
    {
      "cell_type": "code",
      "source": [
        "data.isnull().sum()"
      ],
      "metadata": {
        "colab": {
          "base_uri": "https://localhost:8080/"
        },
        "id": "r0Y5kEcrCkHN",
        "outputId": "5eaecd31-b1fe-438d-ba14-f562ad8fec07"
      },
      "execution_count": 15,
      "outputs": [
        {
          "output_type": "execute_result",
          "data": {
            "text/plain": [
              "Area               0\n",
              "Perimeter          0\n",
              "MajorAxisLength    0\n",
              "MinorAxisLength    0\n",
              "AspectRation       0\n",
              "Eccentricity       0\n",
              "ConvexArea         0\n",
              "EquivDiameter      0\n",
              "Extent             0\n",
              "Solidity           0\n",
              "roundness          0\n",
              "Compactness        0\n",
              "ShapeFactor1       0\n",
              "ShapeFactor2       0\n",
              "ShapeFactor3       0\n",
              "ShapeFactor4       0\n",
              "Class              0\n",
              "dtype: int64"
            ]
          },
          "metadata": {},
          "execution_count": 15
        }
      ]
    },
    {
      "cell_type": "markdown",
      "source": [
        "To see no of Target Variable"
      ],
      "metadata": {
        "id": "KfHfl-vsXKaT"
      }
    },
    {
      "cell_type": "code",
      "source": [
        "data.groupby('Class').count()"
      ],
      "metadata": {
        "colab": {
          "base_uri": "https://localhost:8080/",
          "height": 320
        },
        "id": "WvVwPHPLCr4U",
        "outputId": "4f14d109-44f4-4803-8f69-73fa9fe5930f"
      },
      "execution_count": 16,
      "outputs": [
        {
          "output_type": "execute_result",
          "data": {
            "text/plain": [
              "          Area  Perimeter  MajorAxisLength  MinorAxisLength  AspectRation  \\\n",
              "Class                                                                       \n",
              "BARBUNYA  1322       1322             1322             1322          1322   \n",
              "BOMBAY     522        522              522              522           522   \n",
              "CALI      1630       1630             1630             1630          1630   \n",
              "DERMASON  3546       3546             3546             3546          3546   \n",
              "HOROZ     1928       1928             1928             1928          1928   \n",
              "SEKER     2027       2027             2027             2027          2027   \n",
              "SIRA      2636       2636             2636             2636          2636   \n",
              "\n",
              "          Eccentricity  ConvexArea  EquivDiameter  Extent  Solidity  \\\n",
              "Class                                                                 \n",
              "BARBUNYA          1322        1322           1322    1322      1322   \n",
              "BOMBAY             522         522            522     522       522   \n",
              "CALI              1630        1630           1630    1630      1630   \n",
              "DERMASON          3546        3546           3546    3546      3546   \n",
              "HOROZ             1928        1928           1928    1928      1928   \n",
              "SEKER             2027        2027           2027    2027      2027   \n",
              "SIRA              2636        2636           2636    2636      2636   \n",
              "\n",
              "          roundness  Compactness  ShapeFactor1  ShapeFactor2  ShapeFactor3  \\\n",
              "Class                                                                        \n",
              "BARBUNYA       1322         1322          1322          1322          1322   \n",
              "BOMBAY          522          522           522           522           522   \n",
              "CALI           1630         1630          1630          1630          1630   \n",
              "DERMASON       3546         3546          3546          3546          3546   \n",
              "HOROZ          1928         1928          1928          1928          1928   \n",
              "SEKER          2027         2027          2027          2027          2027   \n",
              "SIRA           2636         2636          2636          2636          2636   \n",
              "\n",
              "          ShapeFactor4  \n",
              "Class                   \n",
              "BARBUNYA          1322  \n",
              "BOMBAY             522  \n",
              "CALI              1630  \n",
              "DERMASON          3546  \n",
              "HOROZ             1928  \n",
              "SEKER             2027  \n",
              "SIRA              2636  "
            ],
            "text/html": [
              "\n",
              "  <div id=\"df-c74362de-5bda-41cc-a859-0b5c7ab8e03c\" class=\"colab-df-container\">\n",
              "    <div>\n",
              "<style scoped>\n",
              "    .dataframe tbody tr th:only-of-type {\n",
              "        vertical-align: middle;\n",
              "    }\n",
              "\n",
              "    .dataframe tbody tr th {\n",
              "        vertical-align: top;\n",
              "    }\n",
              "\n",
              "    .dataframe thead th {\n",
              "        text-align: right;\n",
              "    }\n",
              "</style>\n",
              "<table border=\"1\" class=\"dataframe\">\n",
              "  <thead>\n",
              "    <tr style=\"text-align: right;\">\n",
              "      <th></th>\n",
              "      <th>Area</th>\n",
              "      <th>Perimeter</th>\n",
              "      <th>MajorAxisLength</th>\n",
              "      <th>MinorAxisLength</th>\n",
              "      <th>AspectRation</th>\n",
              "      <th>Eccentricity</th>\n",
              "      <th>ConvexArea</th>\n",
              "      <th>EquivDiameter</th>\n",
              "      <th>Extent</th>\n",
              "      <th>Solidity</th>\n",
              "      <th>roundness</th>\n",
              "      <th>Compactness</th>\n",
              "      <th>ShapeFactor1</th>\n",
              "      <th>ShapeFactor2</th>\n",
              "      <th>ShapeFactor3</th>\n",
              "      <th>ShapeFactor4</th>\n",
              "    </tr>\n",
              "    <tr>\n",
              "      <th>Class</th>\n",
              "      <th></th>\n",
              "      <th></th>\n",
              "      <th></th>\n",
              "      <th></th>\n",
              "      <th></th>\n",
              "      <th></th>\n",
              "      <th></th>\n",
              "      <th></th>\n",
              "      <th></th>\n",
              "      <th></th>\n",
              "      <th></th>\n",
              "      <th></th>\n",
              "      <th></th>\n",
              "      <th></th>\n",
              "      <th></th>\n",
              "      <th></th>\n",
              "    </tr>\n",
              "  </thead>\n",
              "  <tbody>\n",
              "    <tr>\n",
              "      <th>BARBUNYA</th>\n",
              "      <td>1322</td>\n",
              "      <td>1322</td>\n",
              "      <td>1322</td>\n",
              "      <td>1322</td>\n",
              "      <td>1322</td>\n",
              "      <td>1322</td>\n",
              "      <td>1322</td>\n",
              "      <td>1322</td>\n",
              "      <td>1322</td>\n",
              "      <td>1322</td>\n",
              "      <td>1322</td>\n",
              "      <td>1322</td>\n",
              "      <td>1322</td>\n",
              "      <td>1322</td>\n",
              "      <td>1322</td>\n",
              "      <td>1322</td>\n",
              "    </tr>\n",
              "    <tr>\n",
              "      <th>BOMBAY</th>\n",
              "      <td>522</td>\n",
              "      <td>522</td>\n",
              "      <td>522</td>\n",
              "      <td>522</td>\n",
              "      <td>522</td>\n",
              "      <td>522</td>\n",
              "      <td>522</td>\n",
              "      <td>522</td>\n",
              "      <td>522</td>\n",
              "      <td>522</td>\n",
              "      <td>522</td>\n",
              "      <td>522</td>\n",
              "      <td>522</td>\n",
              "      <td>522</td>\n",
              "      <td>522</td>\n",
              "      <td>522</td>\n",
              "    </tr>\n",
              "    <tr>\n",
              "      <th>CALI</th>\n",
              "      <td>1630</td>\n",
              "      <td>1630</td>\n",
              "      <td>1630</td>\n",
              "      <td>1630</td>\n",
              "      <td>1630</td>\n",
              "      <td>1630</td>\n",
              "      <td>1630</td>\n",
              "      <td>1630</td>\n",
              "      <td>1630</td>\n",
              "      <td>1630</td>\n",
              "      <td>1630</td>\n",
              "      <td>1630</td>\n",
              "      <td>1630</td>\n",
              "      <td>1630</td>\n",
              "      <td>1630</td>\n",
              "      <td>1630</td>\n",
              "    </tr>\n",
              "    <tr>\n",
              "      <th>DERMASON</th>\n",
              "      <td>3546</td>\n",
              "      <td>3546</td>\n",
              "      <td>3546</td>\n",
              "      <td>3546</td>\n",
              "      <td>3546</td>\n",
              "      <td>3546</td>\n",
              "      <td>3546</td>\n",
              "      <td>3546</td>\n",
              "      <td>3546</td>\n",
              "      <td>3546</td>\n",
              "      <td>3546</td>\n",
              "      <td>3546</td>\n",
              "      <td>3546</td>\n",
              "      <td>3546</td>\n",
              "      <td>3546</td>\n",
              "      <td>3546</td>\n",
              "    </tr>\n",
              "    <tr>\n",
              "      <th>HOROZ</th>\n",
              "      <td>1928</td>\n",
              "      <td>1928</td>\n",
              "      <td>1928</td>\n",
              "      <td>1928</td>\n",
              "      <td>1928</td>\n",
              "      <td>1928</td>\n",
              "      <td>1928</td>\n",
              "      <td>1928</td>\n",
              "      <td>1928</td>\n",
              "      <td>1928</td>\n",
              "      <td>1928</td>\n",
              "      <td>1928</td>\n",
              "      <td>1928</td>\n",
              "      <td>1928</td>\n",
              "      <td>1928</td>\n",
              "      <td>1928</td>\n",
              "    </tr>\n",
              "    <tr>\n",
              "      <th>SEKER</th>\n",
              "      <td>2027</td>\n",
              "      <td>2027</td>\n",
              "      <td>2027</td>\n",
              "      <td>2027</td>\n",
              "      <td>2027</td>\n",
              "      <td>2027</td>\n",
              "      <td>2027</td>\n",
              "      <td>2027</td>\n",
              "      <td>2027</td>\n",
              "      <td>2027</td>\n",
              "      <td>2027</td>\n",
              "      <td>2027</td>\n",
              "      <td>2027</td>\n",
              "      <td>2027</td>\n",
              "      <td>2027</td>\n",
              "      <td>2027</td>\n",
              "    </tr>\n",
              "    <tr>\n",
              "      <th>SIRA</th>\n",
              "      <td>2636</td>\n",
              "      <td>2636</td>\n",
              "      <td>2636</td>\n",
              "      <td>2636</td>\n",
              "      <td>2636</td>\n",
              "      <td>2636</td>\n",
              "      <td>2636</td>\n",
              "      <td>2636</td>\n",
              "      <td>2636</td>\n",
              "      <td>2636</td>\n",
              "      <td>2636</td>\n",
              "      <td>2636</td>\n",
              "      <td>2636</td>\n",
              "      <td>2636</td>\n",
              "      <td>2636</td>\n",
              "      <td>2636</td>\n",
              "    </tr>\n",
              "  </tbody>\n",
              "</table>\n",
              "</div>\n",
              "    <div class=\"colab-df-buttons\">\n",
              "\n",
              "  <div class=\"colab-df-container\">\n",
              "    <button class=\"colab-df-convert\" onclick=\"convertToInteractive('df-c74362de-5bda-41cc-a859-0b5c7ab8e03c')\"\n",
              "            title=\"Convert this dataframe to an interactive table.\"\n",
              "            style=\"display:none;\">\n",
              "\n",
              "  <svg xmlns=\"http://www.w3.org/2000/svg\" height=\"24px\" viewBox=\"0 -960 960 960\">\n",
              "    <path d=\"M120-120v-720h720v720H120Zm60-500h600v-160H180v160Zm220 220h160v-160H400v160Zm0 220h160v-160H400v160ZM180-400h160v-160H180v160Zm440 0h160v-160H620v160ZM180-180h160v-160H180v160Zm440 0h160v-160H620v160Z\"/>\n",
              "  </svg>\n",
              "    </button>\n",
              "\n",
              "  <style>\n",
              "    .colab-df-container {\n",
              "      display:flex;\n",
              "      gap: 12px;\n",
              "    }\n",
              "\n",
              "    .colab-df-convert {\n",
              "      background-color: #E8F0FE;\n",
              "      border: none;\n",
              "      border-radius: 50%;\n",
              "      cursor: pointer;\n",
              "      display: none;\n",
              "      fill: #1967D2;\n",
              "      height: 32px;\n",
              "      padding: 0 0 0 0;\n",
              "      width: 32px;\n",
              "    }\n",
              "\n",
              "    .colab-df-convert:hover {\n",
              "      background-color: #E2EBFA;\n",
              "      box-shadow: 0px 1px 2px rgba(60, 64, 67, 0.3), 0px 1px 3px 1px rgba(60, 64, 67, 0.15);\n",
              "      fill: #174EA6;\n",
              "    }\n",
              "\n",
              "    .colab-df-buttons div {\n",
              "      margin-bottom: 4px;\n",
              "    }\n",
              "\n",
              "    [theme=dark] .colab-df-convert {\n",
              "      background-color: #3B4455;\n",
              "      fill: #D2E3FC;\n",
              "    }\n",
              "\n",
              "    [theme=dark] .colab-df-convert:hover {\n",
              "      background-color: #434B5C;\n",
              "      box-shadow: 0px 1px 3px 1px rgba(0, 0, 0, 0.15);\n",
              "      filter: drop-shadow(0px 1px 2px rgba(0, 0, 0, 0.3));\n",
              "      fill: #FFFFFF;\n",
              "    }\n",
              "  </style>\n",
              "\n",
              "    <script>\n",
              "      const buttonEl =\n",
              "        document.querySelector('#df-c74362de-5bda-41cc-a859-0b5c7ab8e03c button.colab-df-convert');\n",
              "      buttonEl.style.display =\n",
              "        google.colab.kernel.accessAllowed ? 'block' : 'none';\n",
              "\n",
              "      async function convertToInteractive(key) {\n",
              "        const element = document.querySelector('#df-c74362de-5bda-41cc-a859-0b5c7ab8e03c');\n",
              "        const dataTable =\n",
              "          await google.colab.kernel.invokeFunction('convertToInteractive',\n",
              "                                                    [key], {});\n",
              "        if (!dataTable) return;\n",
              "\n",
              "        const docLinkHtml = 'Like what you see? Visit the ' +\n",
              "          '<a target=\"_blank\" href=https://colab.research.google.com/notebooks/data_table.ipynb>data table notebook</a>'\n",
              "          + ' to learn more about interactive tables.';\n",
              "        element.innerHTML = '';\n",
              "        dataTable['output_type'] = 'display_data';\n",
              "        await google.colab.output.renderOutput(dataTable, element);\n",
              "        const docLink = document.createElement('div');\n",
              "        docLink.innerHTML = docLinkHtml;\n",
              "        element.appendChild(docLink);\n",
              "      }\n",
              "    </script>\n",
              "  </div>\n",
              "\n",
              "\n",
              "<div id=\"df-69f23479-910b-4923-a9ce-cf29e96f6801\">\n",
              "  <button class=\"colab-df-quickchart\" onclick=\"quickchart('df-69f23479-910b-4923-a9ce-cf29e96f6801')\"\n",
              "            title=\"Suggest charts\"\n",
              "            style=\"display:none;\">\n",
              "\n",
              "<svg xmlns=\"http://www.w3.org/2000/svg\" height=\"24px\"viewBox=\"0 0 24 24\"\n",
              "     width=\"24px\">\n",
              "    <g>\n",
              "        <path d=\"M19 3H5c-1.1 0-2 .9-2 2v14c0 1.1.9 2 2 2h14c1.1 0 2-.9 2-2V5c0-1.1-.9-2-2-2zM9 17H7v-7h2v7zm4 0h-2V7h2v10zm4 0h-2v-4h2v4z\"/>\n",
              "    </g>\n",
              "</svg>\n",
              "  </button>\n",
              "\n",
              "<style>\n",
              "  .colab-df-quickchart {\n",
              "      --bg-color: #E8F0FE;\n",
              "      --fill-color: #1967D2;\n",
              "      --hover-bg-color: #E2EBFA;\n",
              "      --hover-fill-color: #174EA6;\n",
              "      --disabled-fill-color: #AAA;\n",
              "      --disabled-bg-color: #DDD;\n",
              "  }\n",
              "\n",
              "  [theme=dark] .colab-df-quickchart {\n",
              "      --bg-color: #3B4455;\n",
              "      --fill-color: #D2E3FC;\n",
              "      --hover-bg-color: #434B5C;\n",
              "      --hover-fill-color: #FFFFFF;\n",
              "      --disabled-bg-color: #3B4455;\n",
              "      --disabled-fill-color: #666;\n",
              "  }\n",
              "\n",
              "  .colab-df-quickchart {\n",
              "    background-color: var(--bg-color);\n",
              "    border: none;\n",
              "    border-radius: 50%;\n",
              "    cursor: pointer;\n",
              "    display: none;\n",
              "    fill: var(--fill-color);\n",
              "    height: 32px;\n",
              "    padding: 0;\n",
              "    width: 32px;\n",
              "  }\n",
              "\n",
              "  .colab-df-quickchart:hover {\n",
              "    background-color: var(--hover-bg-color);\n",
              "    box-shadow: 0 1px 2px rgba(60, 64, 67, 0.3), 0 1px 3px 1px rgba(60, 64, 67, 0.15);\n",
              "    fill: var(--button-hover-fill-color);\n",
              "  }\n",
              "\n",
              "  .colab-df-quickchart-complete:disabled,\n",
              "  .colab-df-quickchart-complete:disabled:hover {\n",
              "    background-color: var(--disabled-bg-color);\n",
              "    fill: var(--disabled-fill-color);\n",
              "    box-shadow: none;\n",
              "  }\n",
              "\n",
              "  .colab-df-spinner {\n",
              "    border: 2px solid var(--fill-color);\n",
              "    border-color: transparent;\n",
              "    border-bottom-color: var(--fill-color);\n",
              "    animation:\n",
              "      spin 1s steps(1) infinite;\n",
              "  }\n",
              "\n",
              "  @keyframes spin {\n",
              "    0% {\n",
              "      border-color: transparent;\n",
              "      border-bottom-color: var(--fill-color);\n",
              "      border-left-color: var(--fill-color);\n",
              "    }\n",
              "    20% {\n",
              "      border-color: transparent;\n",
              "      border-left-color: var(--fill-color);\n",
              "      border-top-color: var(--fill-color);\n",
              "    }\n",
              "    30% {\n",
              "      border-color: transparent;\n",
              "      border-left-color: var(--fill-color);\n",
              "      border-top-color: var(--fill-color);\n",
              "      border-right-color: var(--fill-color);\n",
              "    }\n",
              "    40% {\n",
              "      border-color: transparent;\n",
              "      border-right-color: var(--fill-color);\n",
              "      border-top-color: var(--fill-color);\n",
              "    }\n",
              "    60% {\n",
              "      border-color: transparent;\n",
              "      border-right-color: var(--fill-color);\n",
              "    }\n",
              "    80% {\n",
              "      border-color: transparent;\n",
              "      border-right-color: var(--fill-color);\n",
              "      border-bottom-color: var(--fill-color);\n",
              "    }\n",
              "    90% {\n",
              "      border-color: transparent;\n",
              "      border-bottom-color: var(--fill-color);\n",
              "    }\n",
              "  }\n",
              "</style>\n",
              "\n",
              "  <script>\n",
              "    async function quickchart(key) {\n",
              "      const quickchartButtonEl =\n",
              "        document.querySelector('#' + key + ' button');\n",
              "      quickchartButtonEl.disabled = true;  // To prevent multiple clicks.\n",
              "      quickchartButtonEl.classList.add('colab-df-spinner');\n",
              "      try {\n",
              "        const charts = await google.colab.kernel.invokeFunction(\n",
              "            'suggestCharts', [key], {});\n",
              "      } catch (error) {\n",
              "        console.error('Error during call to suggestCharts:', error);\n",
              "      }\n",
              "      quickchartButtonEl.classList.remove('colab-df-spinner');\n",
              "      quickchartButtonEl.classList.add('colab-df-quickchart-complete');\n",
              "    }\n",
              "    (() => {\n",
              "      let quickchartButtonEl =\n",
              "        document.querySelector('#df-69f23479-910b-4923-a9ce-cf29e96f6801 button');\n",
              "      quickchartButtonEl.style.display =\n",
              "        google.colab.kernel.accessAllowed ? 'block' : 'none';\n",
              "    })();\n",
              "  </script>\n",
              "</div>\n",
              "\n",
              "    </div>\n",
              "  </div>\n"
            ],
            "application/vnd.google.colaboratory.intrinsic+json": {
              "type": "dataframe",
              "summary": "{\n  \"name\": \"data\",\n  \"rows\": 7,\n  \"fields\": [\n    {\n      \"column\": \"Class\",\n      \"properties\": {\n        \"dtype\": \"string\",\n        \"num_unique_values\": 7,\n        \"samples\": [\n          \"BARBUNYA\",\n          \"BOMBAY\",\n          \"SEKER\"\n        ],\n        \"semantic_type\": \"\",\n        \"description\": \"\"\n      }\n    },\n    {\n      \"column\": \"Area\",\n      \"properties\": {\n        \"dtype\": \"number\",\n        \"std\": 962,\n        \"min\": 522,\n        \"max\": 3546,\n        \"num_unique_values\": 7,\n        \"samples\": [\n          1322,\n          522,\n          2027\n        ],\n        \"semantic_type\": \"\",\n        \"description\": \"\"\n      }\n    },\n    {\n      \"column\": \"Perimeter\",\n      \"properties\": {\n        \"dtype\": \"number\",\n        \"std\": 962,\n        \"min\": 522,\n        \"max\": 3546,\n        \"num_unique_values\": 7,\n        \"samples\": [\n          1322,\n          522,\n          2027\n        ],\n        \"semantic_type\": \"\",\n        \"description\": \"\"\n      }\n    },\n    {\n      \"column\": \"MajorAxisLength\",\n      \"properties\": {\n        \"dtype\": \"number\",\n        \"std\": 962,\n        \"min\": 522,\n        \"max\": 3546,\n        \"num_unique_values\": 7,\n        \"samples\": [\n          1322,\n          522,\n          2027\n        ],\n        \"semantic_type\": \"\",\n        \"description\": \"\"\n      }\n    },\n    {\n      \"column\": \"MinorAxisLength\",\n      \"properties\": {\n        \"dtype\": \"number\",\n        \"std\": 962,\n        \"min\": 522,\n        \"max\": 3546,\n        \"num_unique_values\": 7,\n        \"samples\": [\n          1322,\n          522,\n          2027\n        ],\n        \"semantic_type\": \"\",\n        \"description\": \"\"\n      }\n    },\n    {\n      \"column\": \"AspectRation\",\n      \"properties\": {\n        \"dtype\": \"number\",\n        \"std\": 962,\n        \"min\": 522,\n        \"max\": 3546,\n        \"num_unique_values\": 7,\n        \"samples\": [\n          1322,\n          522,\n          2027\n        ],\n        \"semantic_type\": \"\",\n        \"description\": \"\"\n      }\n    },\n    {\n      \"column\": \"Eccentricity\",\n      \"properties\": {\n        \"dtype\": \"number\",\n        \"std\": 962,\n        \"min\": 522,\n        \"max\": 3546,\n        \"num_unique_values\": 7,\n        \"samples\": [\n          1322,\n          522,\n          2027\n        ],\n        \"semantic_type\": \"\",\n        \"description\": \"\"\n      }\n    },\n    {\n      \"column\": \"ConvexArea\",\n      \"properties\": {\n        \"dtype\": \"number\",\n        \"std\": 962,\n        \"min\": 522,\n        \"max\": 3546,\n        \"num_unique_values\": 7,\n        \"samples\": [\n          1322,\n          522,\n          2027\n        ],\n        \"semantic_type\": \"\",\n        \"description\": \"\"\n      }\n    },\n    {\n      \"column\": \"EquivDiameter\",\n      \"properties\": {\n        \"dtype\": \"number\",\n        \"std\": 962,\n        \"min\": 522,\n        \"max\": 3546,\n        \"num_unique_values\": 7,\n        \"samples\": [\n          1322,\n          522,\n          2027\n        ],\n        \"semantic_type\": \"\",\n        \"description\": \"\"\n      }\n    },\n    {\n      \"column\": \"Extent\",\n      \"properties\": {\n        \"dtype\": \"number\",\n        \"std\": 962,\n        \"min\": 522,\n        \"max\": 3546,\n        \"num_unique_values\": 7,\n        \"samples\": [\n          1322,\n          522,\n          2027\n        ],\n        \"semantic_type\": \"\",\n        \"description\": \"\"\n      }\n    },\n    {\n      \"column\": \"Solidity\",\n      \"properties\": {\n        \"dtype\": \"number\",\n        \"std\": 962,\n        \"min\": 522,\n        \"max\": 3546,\n        \"num_unique_values\": 7,\n        \"samples\": [\n          1322,\n          522,\n          2027\n        ],\n        \"semantic_type\": \"\",\n        \"description\": \"\"\n      }\n    },\n    {\n      \"column\": \"roundness\",\n      \"properties\": {\n        \"dtype\": \"number\",\n        \"std\": 962,\n        \"min\": 522,\n        \"max\": 3546,\n        \"num_unique_values\": 7,\n        \"samples\": [\n          1322,\n          522,\n          2027\n        ],\n        \"semantic_type\": \"\",\n        \"description\": \"\"\n      }\n    },\n    {\n      \"column\": \"Compactness\",\n      \"properties\": {\n        \"dtype\": \"number\",\n        \"std\": 962,\n        \"min\": 522,\n        \"max\": 3546,\n        \"num_unique_values\": 7,\n        \"samples\": [\n          1322,\n          522,\n          2027\n        ],\n        \"semantic_type\": \"\",\n        \"description\": \"\"\n      }\n    },\n    {\n      \"column\": \"ShapeFactor1\",\n      \"properties\": {\n        \"dtype\": \"number\",\n        \"std\": 962,\n        \"min\": 522,\n        \"max\": 3546,\n        \"num_unique_values\": 7,\n        \"samples\": [\n          1322,\n          522,\n          2027\n        ],\n        \"semantic_type\": \"\",\n        \"description\": \"\"\n      }\n    },\n    {\n      \"column\": \"ShapeFactor2\",\n      \"properties\": {\n        \"dtype\": \"number\",\n        \"std\": 962,\n        \"min\": 522,\n        \"max\": 3546,\n        \"num_unique_values\": 7,\n        \"samples\": [\n          1322,\n          522,\n          2027\n        ],\n        \"semantic_type\": \"\",\n        \"description\": \"\"\n      }\n    },\n    {\n      \"column\": \"ShapeFactor3\",\n      \"properties\": {\n        \"dtype\": \"number\",\n        \"std\": 962,\n        \"min\": 522,\n        \"max\": 3546,\n        \"num_unique_values\": 7,\n        \"samples\": [\n          1322,\n          522,\n          2027\n        ],\n        \"semantic_type\": \"\",\n        \"description\": \"\"\n      }\n    },\n    {\n      \"column\": \"ShapeFactor4\",\n      \"properties\": {\n        \"dtype\": \"number\",\n        \"std\": 962,\n        \"min\": 522,\n        \"max\": 3546,\n        \"num_unique_values\": 7,\n        \"samples\": [\n          1322,\n          522,\n          2027\n        ],\n        \"semantic_type\": \"\",\n        \"description\": \"\"\n      }\n    }\n  ]\n}"
            }
          },
          "metadata": {},
          "execution_count": 16
        }
      ]
    },
    {
      "cell_type": "markdown",
      "source": [
        "Classify the data into X (paramter) and Y(Target)"
      ],
      "metadata": {
        "id": "4TAlfJgWXXAh"
      }
    },
    {
      "cell_type": "code",
      "source": [
        "x=data.drop(columns='Class', axis=1)\n",
        "y=data['Class']"
      ],
      "metadata": {
        "id": "axspuqR_GTIE"
      },
      "execution_count": 17,
      "outputs": []
    },
    {
      "cell_type": "markdown",
      "source": [
        "Transform all the x parameter in Standradised Form"
      ],
      "metadata": {
        "id": "1hAFGfejXl6f"
      }
    },
    {
      "cell_type": "code",
      "source": [
        "sclar= StandardScaler()"
      ],
      "metadata": {
        "id": "7vEHOY9FGlgm"
      },
      "execution_count": 18,
      "outputs": []
    },
    {
      "cell_type": "code",
      "source": [
        "X=sclar.fit_transform(x)"
      ],
      "metadata": {
        "id": "jitbx4pMGudX"
      },
      "execution_count": 19,
      "outputs": []
    },
    {
      "cell_type": "code",
      "source": [
        "print(X)"
      ],
      "metadata": {
        "colab": {
          "base_uri": "https://localhost:8080/"
        },
        "id": "VdOZTjoKG7ra",
        "outputId": "5454f940-5ffb-49e4-8df8-da7119ea44c3"
      },
      "execution_count": 20,
      "outputs": [
        {
          "output_type": "stream",
          "name": "stdout",
          "text": [
            "[[-0.84074853 -1.1433189  -1.30659814 ...  2.40217287  1.92572347\n",
            "   0.83837103]\n",
            " [-0.82918764 -1.01392388 -1.39591111 ...  3.10089314  2.68970162\n",
            "   0.77113842]\n",
            " [-0.80715717 -1.07882906 -1.25235661 ...  2.23509147  1.84135576\n",
            "   0.91675514]\n",
            " ...\n",
            " [-0.37203825 -0.44783294 -0.45047814 ...  0.28920441  0.33632829\n",
            "   0.39025114]\n",
            " [-0.37176543 -0.42702856 -0.42897404 ...  0.22837538  0.2489734\n",
            "   0.03644001]\n",
            " [-0.37135619 -0.38755718 -0.2917356  ... -0.12777587 -0.2764814\n",
            "   0.71371948]]\n"
          ]
        }
      ]
    },
    {
      "cell_type": "markdown",
      "source": [
        "To transform the Target varaible to Numerical form"
      ],
      "metadata": {
        "id": "ArAkWh2OYAZM"
      }
    },
    {
      "cell_type": "code",
      "source": [
        "# label = LabelEncoder()\n",
        "from sklearn.preprocessing import LabelEncoder"
      ],
      "metadata": {
        "id": "sbAQKZmRG_6U"
      },
      "execution_count": 21,
      "outputs": []
    },
    {
      "cell_type": "code",
      "source": [
        "label = LabelEncoder()"
      ],
      "metadata": {
        "id": "jHW39OCIHTg4"
      },
      "execution_count": 22,
      "outputs": []
    },
    {
      "cell_type": "code",
      "source": [
        "Y=label.fit_transform(y)"
      ],
      "metadata": {
        "id": "ILqPhKbmHXWL"
      },
      "execution_count": 23,
      "outputs": []
    },
    {
      "cell_type": "code",
      "source": [
        "print(Y)"
      ],
      "metadata": {
        "colab": {
          "base_uri": "https://localhost:8080/"
        },
        "id": "Pp_jR92lHf_V",
        "outputId": "354fd404-04de-4706-d1e8-4a4e2405ff3b"
      },
      "execution_count": 24,
      "outputs": [
        {
          "output_type": "stream",
          "name": "stdout",
          "text": [
            "[5 5 5 ... 3 3 3]\n"
          ]
        }
      ]
    },
    {
      "cell_type": "markdown",
      "source": [
        "Split the data into Train and test Data"
      ],
      "metadata": {
        "id": "L_pW3750YRxg"
      }
    },
    {
      "cell_type": "code",
      "source": [
        "X_train,X_test,Y_train,Y_test=train_test_split(X,Y,test_size=0.2,random_state=2)"
      ],
      "metadata": {
        "id": "Gx9ICTWwHlLx"
      },
      "execution_count": 25,
      "outputs": []
    },
    {
      "cell_type": "code",
      "source": [
        "print(X.shape,X_train.shape,X_test.shape)"
      ],
      "metadata": {
        "colab": {
          "base_uri": "https://localhost:8080/"
        },
        "id": "D8xob2d9H53z",
        "outputId": "22570be4-0d5b-4759-da03-cd9753549a6f"
      },
      "execution_count": 26,
      "outputs": [
        {
          "output_type": "stream",
          "name": "stdout",
          "text": [
            "(13611, 16) (10888, 16) (2723, 16)\n"
          ]
        }
      ]
    },
    {
      "cell_type": "markdown",
      "source": [
        "Import the algorithms"
      ],
      "metadata": {
        "id": "g8TSE27BZFN6"
      }
    },
    {
      "cell_type": "code",
      "source": [
        "from sklearn import tree"
      ],
      "metadata": {
        "id": "_M0XkENHICxQ"
      },
      "execution_count": 27,
      "outputs": []
    },
    {
      "cell_type": "markdown",
      "source": [
        "Fit the algorithm to Train DataSet"
      ],
      "metadata": {
        "id": "1JA-xWH_ZMqC"
      }
    },
    {
      "cell_type": "code",
      "source": [
        "model = tree.DecisionTreeClassifier()"
      ],
      "metadata": {
        "id": "ig7IuwGcIOqx"
      },
      "execution_count": 28,
      "outputs": []
    },
    {
      "cell_type": "code",
      "source": [
        "model.fit(X_train,Y_train)"
      ],
      "metadata": {
        "colab": {
          "base_uri": "https://localhost:8080/",
          "height": 74
        },
        "id": "YVCVky5vIY3-",
        "outputId": "a52c5cac-32bd-4a54-b0d9-1b891ed9dbc4"
      },
      "execution_count": 29,
      "outputs": [
        {
          "output_type": "execute_result",
          "data": {
            "text/plain": [
              "DecisionTreeClassifier()"
            ],
            "text/html": [
              "<style>#sk-container-id-1 {color: black;background-color: white;}#sk-container-id-1 pre{padding: 0;}#sk-container-id-1 div.sk-toggleable {background-color: white;}#sk-container-id-1 label.sk-toggleable__label {cursor: pointer;display: block;width: 100%;margin-bottom: 0;padding: 0.3em;box-sizing: border-box;text-align: center;}#sk-container-id-1 label.sk-toggleable__label-arrow:before {content: \"▸\";float: left;margin-right: 0.25em;color: #696969;}#sk-container-id-1 label.sk-toggleable__label-arrow:hover:before {color: black;}#sk-container-id-1 div.sk-estimator:hover label.sk-toggleable__label-arrow:before {color: black;}#sk-container-id-1 div.sk-toggleable__content {max-height: 0;max-width: 0;overflow: hidden;text-align: left;background-color: #f0f8ff;}#sk-container-id-1 div.sk-toggleable__content pre {margin: 0.2em;color: black;border-radius: 0.25em;background-color: #f0f8ff;}#sk-container-id-1 input.sk-toggleable__control:checked~div.sk-toggleable__content {max-height: 200px;max-width: 100%;overflow: auto;}#sk-container-id-1 input.sk-toggleable__control:checked~label.sk-toggleable__label-arrow:before {content: \"▾\";}#sk-container-id-1 div.sk-estimator input.sk-toggleable__control:checked~label.sk-toggleable__label {background-color: #d4ebff;}#sk-container-id-1 div.sk-label input.sk-toggleable__control:checked~label.sk-toggleable__label {background-color: #d4ebff;}#sk-container-id-1 input.sk-hidden--visually {border: 0;clip: rect(1px 1px 1px 1px);clip: rect(1px, 1px, 1px, 1px);height: 1px;margin: -1px;overflow: hidden;padding: 0;position: absolute;width: 1px;}#sk-container-id-1 div.sk-estimator {font-family: monospace;background-color: #f0f8ff;border: 1px dotted black;border-radius: 0.25em;box-sizing: border-box;margin-bottom: 0.5em;}#sk-container-id-1 div.sk-estimator:hover {background-color: #d4ebff;}#sk-container-id-1 div.sk-parallel-item::after {content: \"\";width: 100%;border-bottom: 1px solid gray;flex-grow: 1;}#sk-container-id-1 div.sk-label:hover label.sk-toggleable__label {background-color: #d4ebff;}#sk-container-id-1 div.sk-serial::before {content: \"\";position: absolute;border-left: 1px solid gray;box-sizing: border-box;top: 0;bottom: 0;left: 50%;z-index: 0;}#sk-container-id-1 div.sk-serial {display: flex;flex-direction: column;align-items: center;background-color: white;padding-right: 0.2em;padding-left: 0.2em;position: relative;}#sk-container-id-1 div.sk-item {position: relative;z-index: 1;}#sk-container-id-1 div.sk-parallel {display: flex;align-items: stretch;justify-content: center;background-color: white;position: relative;}#sk-container-id-1 div.sk-item::before, #sk-container-id-1 div.sk-parallel-item::before {content: \"\";position: absolute;border-left: 1px solid gray;box-sizing: border-box;top: 0;bottom: 0;left: 50%;z-index: -1;}#sk-container-id-1 div.sk-parallel-item {display: flex;flex-direction: column;z-index: 1;position: relative;background-color: white;}#sk-container-id-1 div.sk-parallel-item:first-child::after {align-self: flex-end;width: 50%;}#sk-container-id-1 div.sk-parallel-item:last-child::after {align-self: flex-start;width: 50%;}#sk-container-id-1 div.sk-parallel-item:only-child::after {width: 0;}#sk-container-id-1 div.sk-dashed-wrapped {border: 1px dashed gray;margin: 0 0.4em 0.5em 0.4em;box-sizing: border-box;padding-bottom: 0.4em;background-color: white;}#sk-container-id-1 div.sk-label label {font-family: monospace;font-weight: bold;display: inline-block;line-height: 1.2em;}#sk-container-id-1 div.sk-label-container {text-align: center;}#sk-container-id-1 div.sk-container {/* jupyter's `normalize.less` sets `[hidden] { display: none; }` but bootstrap.min.css set `[hidden] { display: none !important; }` so we also need the `!important` here to be able to override the default hidden behavior on the sphinx rendered scikit-learn.org. See: https://github.com/scikit-learn/scikit-learn/issues/21755 */display: inline-block !important;position: relative;}#sk-container-id-1 div.sk-text-repr-fallback {display: none;}</style><div id=\"sk-container-id-1\" class=\"sk-top-container\"><div class=\"sk-text-repr-fallback\"><pre>DecisionTreeClassifier()</pre><b>In a Jupyter environment, please rerun this cell to show the HTML representation or trust the notebook. <br />On GitHub, the HTML representation is unable to render, please try loading this page with nbviewer.org.</b></div><div class=\"sk-container\" hidden><div class=\"sk-item\"><div class=\"sk-estimator sk-toggleable\"><input class=\"sk-toggleable__control sk-hidden--visually\" id=\"sk-estimator-id-1\" type=\"checkbox\" checked><label for=\"sk-estimator-id-1\" class=\"sk-toggleable__label sk-toggleable__label-arrow\">DecisionTreeClassifier</label><div class=\"sk-toggleable__content\"><pre>DecisionTreeClassifier()</pre></div></div></div></div></div>"
            ]
          },
          "metadata": {},
          "execution_count": 29
        }
      ]
    },
    {
      "cell_type": "markdown",
      "source": [
        "Predict the output by using Train Data and Check the accuracy_score"
      ],
      "metadata": {
        "id": "ahiSeo_oZXu5"
      }
    },
    {
      "cell_type": "code",
      "source": [
        "X_prd =model.predict(X_train)\n",
        "X_acc = accuracy_score(X_prd,Y_train)\n",
        "print(X_acc)"
      ],
      "metadata": {
        "colab": {
          "base_uri": "https://localhost:8080/"
        },
        "id": "y9_CXUuQIp6b",
        "outputId": "6f9057ac-a147-43f9-9f53-4aec00965754"
      },
      "execution_count": 30,
      "outputs": [
        {
          "output_type": "stream",
          "name": "stdout",
          "text": [
            "1.0\n"
          ]
        }
      ]
    },
    {
      "cell_type": "markdown",
      "source": [
        "Predict the output by using Test Data and Check the accuracy_score"
      ],
      "metadata": {
        "id": "J21SoPNzZmVG"
      }
    },
    {
      "cell_type": "code",
      "source": [
        "y_prd =model.predict(X_test)\n",
        "y_acc = accuracy_score(y_prd,Y_test)\n",
        "print(y_acc)"
      ],
      "metadata": {
        "colab": {
          "base_uri": "https://localhost:8080/"
        },
        "id": "TK_-mAB-JH1k",
        "outputId": "6cc345f8-5179-4395-817c-c5c9c4b0df2b"
      },
      "execution_count": 31,
      "outputs": [
        {
          "output_type": "stream",
          "name": "stdout",
          "text": [
            "0.9001101726037458\n"
          ]
        }
      ]
    },
    {
      "cell_type": "markdown",
      "source": [
        "Giving the customized input and check the Output"
      ],
      "metadata": {
        "id": "ulRs08XxZuWV"
      }
    },
    {
      "cell_type": "code",
      "source": [
        "def surya(m):\n",
        "  # b = m.split(\" \")\n",
        "  Inp_arr = np.asarray(m)\n",
        "  inp_reshape = Inp_arr.reshape(1,-1)\n",
        "  std_data=sclar.transform(inp_reshape)\n",
        "  predict_in = model.predict(std_data)\n",
        "  if predict_in == 0:\n",
        "    print(\"Its belong to BARBUNYA\")\n",
        "  elif predict_in == 1:\n",
        "    print(\"Its belong to BOMBAY\")\n",
        "  elif predict_in == 2:\n",
        "    print(\"Its belong to CALI\")\n",
        "  elif predict_in == 3:\n",
        "    print(\"Its belong to DERMASON\t\")\n",
        "  elif predict_in == 4:\n",
        "    print(\"Its belong to HOROZ\")\n",
        "  elif predict_in == 5:\n",
        "    print(\"Its belong to SEKER\")\n",
        "  if predict_in == 6:\n",
        "    print(\"Its belong to SIRA\")\n",
        "  print(predict_in)\n",
        "inp = eval(input(\"enter the input in list the format\"))\n",
        "surya(inp)\n",
        "\n",
        "pass"
      ],
      "metadata": {
        "colab": {
          "base_uri": "https://localhost:8080/"
        },
        "id": "1zyemboDL6kD",
        "outputId": "0b67457c-6151-491f-ec83-e924870c84c6"
      },
      "execution_count": 38,
      "outputs": [
        {
          "output_type": "stream",
          "name": "stdout",
          "text": [
            "enter the input in list the format[30008,645.884,210.557999,182.5165157,1.153638059,0.498615976,30724,195.4670618,0.782681273,0.976695743,0.903936374,0.928328835,0.007016729,0.003214562,0.861794425,0.994198849]\n",
            "Its belong to SEKER\n",
            "[5]\n"
          ]
        },
        {
          "output_type": "stream",
          "name": "stderr",
          "text": [
            "/usr/local/lib/python3.10/dist-packages/sklearn/base.py:439: UserWarning: X does not have valid feature names, but StandardScaler was fitted with feature names\n",
            "  warnings.warn(\n"
          ]
        }
      ]
    }
  ]
}